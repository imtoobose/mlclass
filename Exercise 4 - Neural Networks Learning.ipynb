{
 "cells": [
  {
   "cell_type": "markdown",
   "metadata": {
    "deletable": true,
    "editable": true
   },
   "source": [
    "**Exercise 4: Neural Networks Learning**"
   ]
  },
  {
   "cell_type": "code",
   "execution_count": 6,
   "metadata": {
    "collapsed": false,
    "deletable": true,
    "editable": true
   },
   "outputs": [],
   "source": [
    "import numpy as np\n",
    "import matplotlib as mpl\n",
    "import matplotlib.pyplot as plt\n",
    "import plotly.graph_objs as go\n",
    "import scipy\n",
    "from random import randint\n",
    "from scipy.io import loadmat\n",
    "from scipy.optimize import minimize\n",
    "from sklearn.preprocessing import normalize\n",
    "from math import sqrt\n",
    "from __future__ import division\n",
    "import seaborn as sns\n",
    "import warnings"
   ]
  },
  {
   "cell_type": "code",
   "execution_count": 7,
   "metadata": {
    "collapsed": false,
    "deletable": true,
    "editable": true
   },
   "outputs": [
    {
     "name": "stdout",
     "output_type": "stream",
     "text": [
      "['y', 'X', '__version__', '__header__', '__globals__']\n",
      "['Theta2', '__version__', '__header__', 'Theta1', '__globals__']\n",
      "\n",
      "Random sample\n"
     ]
    },
    {
     "data": {
      "image/png": "[encoded data removed]",
      "text/plain": [
       "<matplotlib.figure.Figure at 0x10af30050>"
      ]
     },
     "metadata": {},
     "output_type": "display_data"
    }
   ],
   "source": [
    "warnings.filterwarnings('ignore')\n",
    "%matplotlib inline\n",
    "sns.set_style(\"darkgrid\")\n",
    "\n",
    "data = loadmat('ex4data1.mat')\n",
    "weights = loadmat('ex4weights.mat')\n",
    "print data.keys()\n",
    "print weights.keys()\n",
    "X = data['X']\n",
    "y = data['y']\n",
    "Theta1 = weights['Theta1']\n",
    "Theta2 = weights['Theta2']\n",
    "\n",
    "rand = randint(0, 5000)\n",
    "sample = X[np.random.choice(X.shape[0], 10, replace=False), :]\n",
    "\n",
    "print '\\nRandom sample'\n",
    "plt.imshow(sample.reshape((-1, 20)).T, cmap='gray_r')\n",
    "plt.axis('off')\n",
    "plt.show()"
   ]
  },
  {
   "cell_type": "markdown",
   "metadata": {
    "deletable": true,
    "editable": true
   },
   "source": [
    "**Sigmoid and Sigmoid Gradient Functions**"
   ]
  },
  {
   "cell_type": "code",
   "execution_count": 8,
   "metadata": {
    "collapsed": false,
    "deletable": true,
    "editable": true
   },
   "outputs": [
    {
     "name": "stdout",
     "output_type": "stream",
     "text": [
      "At 0 sigmoid gradient is 0.25\n",
      "\n"
     ]
    },
    {
     "data": {
      "image/png": "[encoded data removed]",
      "text/plain": [
       "<matplotlib.figure.Figure at 0x10af40410>"
      ]
     },
     "metadata": {},
     "output_type": "display_data"
    }
   ],
   "source": [
    "# Sigmoid function\n",
    "def sigmoid(z):\n",
    "    return 1.0/(1.0+np.exp(-z))\n",
    "\n",
    "def sigmoid_gradient(z):\n",
    "    return sigmoid(z)*(1- sigmoid(z))\n",
    "\n",
    "Xaxis = np.arange(-10, 10)\n",
    "\n",
    "print 'At 0 sigmoid gradient is', sigmoid_gradient(0)\n",
    "print ''\n",
    "\n",
    "plt.plot(Xaxis, sigmoid(Xaxis), label='Sigmoid')\n",
    "plt.plot(Xaxis, sigmoid_gradient(Xaxis), label='Sigmoid Gradient')\n",
    "plt.legend()\n",
    "plt.show()"
   ]
  },
  {
   "cell_type": "markdown",
   "metadata": {
    "deletable": true,
    "editable": true
   },
   "source": [
    "**Get the numerical gradient (for checking how well back propagation is working)**"
   ]
  },
  {
   "cell_type": "code",
   "execution_count": 9,
   "metadata": {
    "collapsed": true,
    "deletable": true,
    "editable": true
   },
   "outputs": [],
   "source": [
    "def computeNumericalGradient(J, params, input_layer_size, hidden_layer_size, num_labels, X, y, lamb):\n",
    "    e = 1e-4\n",
    "    perturb = np.zeros((params.shape[0], params.shape[0]))\n",
    "    perturb[np.arange(params.shape[0]), np.arange(params.shape[0])] = e\n",
    "    \n",
    "    loss1 = np.zeros(params.shape)\n",
    "    loss2 = np.zeros(params.shape)\n",
    "    \n",
    "    for i in range(params.shape[0]):\n",
    "        loss1[i] = J(params - perturb[i], input_layer_size, hidden_layer_size, num_labels, X, y, lamb)[0]\n",
    "        loss2[i] = J(params + perturb[i], input_layer_size, hidden_layer_size, num_labels, X, y, lamb)[0]\n",
    "    \n",
    "    return (loss2-loss1)/(2*e)"
   ]
  },
  {
   "cell_type": "markdown",
   "metadata": {
    "deletable": true,
    "editable": true
   },
   "source": [
    "## Neural Net functions\n",
    "\n",
    "### randInitializeWeights:\n",
    "Used to initialize the parameters for a NN with random values within the range epsilon_init, -epsilon_init and of the given size\n",
    "\n",
    "**Params:**\n",
    "- L_in : size of incoming layer\n",
    "- L_out: size of outgoing layer\n",
    "\n",
    "**Returns:**\n",
    "- randtheta: a matrix with random values of the shape(L_out, L_in)\n",
    "\n",
    "\n",
    "### create_nn_model\n",
    "Creates a model from given thetas and \n",
    "\n",
    "**Params:**\n",
    "- Theta1: Matrix for the first layer\n",
    "- Theta2: Matrix for the second layer\n",
    "- X: Input layer\n",
    "\n",
    "**Return**\n",
    "- Model(numpy array): array of shape(m, 1) where m is number of rows in X. Every element i in model corresponds to the class predicted for the data in row i in X by the given matrices\n",
    "\n",
    "### nnCostFunction\n",
    "**Params:**\n",
    "- nn_params : 1D vector with parameters for neural net\n",
    "- input_layer_size: --\n",
    "- hidden_layer_size: --\n",
    "- num_labels: number of labels or size of final layer\n",
    "- X: input data \n",
    "- y: classes\n",
    "- lamb: regularization coefficient\n",
    "\n",
    "**Returns:**\n",
    "- J: the cost h0 for the neural net with current parameters\n",
    "- gradient: from back propagation"
   ]
  },
  {
   "cell_type": "code",
   "execution_count": 10,
   "metadata": {
    "collapsed": false,
    "deletable": true,
    "editable": true
   },
   "outputs": [
    {
     "name": "stdout",
     "output_type": "stream",
     "text": [
      "Theta1\t(25, 401)\n",
      "Theta2\t(10, 26)\n",
      "X\t(5000, 400)\n",
      "\n",
      "Cost (lambda = 0)\t0.287629165161\n",
      "Cost (lambda = 1)\t0.383769859091\n",
      "\n",
      "Gradient (lambda = 0)\n",
      "[  6.18712766e-05   0.00000000e+00   0.00000000e+00 ...,   9.66104721e-05\n",
      "  -7.57736846e-04   7.73329872e-04]\n",
      "(10285,)\n"
     ]
    }
   ],
   "source": [
    "def randInitializeWeights(L_in, L_out):\n",
    "    ep_init = sqrt(6)/sqrt(L_in + L_out)\n",
    "    \n",
    "    return np.random.uniform(-ep_init, ep_init, size=(L_out, L_in))\n",
    "        \n",
    "\n",
    "def create_nn_model(Theta1, Theta2, X):\n",
    "    XX = np.append(np.ones((m, 1)), X, axis=1)\n",
    "    h = sigmoid(Theta1.dot(XX.T))\n",
    "    l1 = np.append(np.ones((1, h.shape[1])), h, 0)\n",
    "    h1 = sigmoid(Theta2.dot(l1))\n",
    "    ans = np.argmax(h1, axis=0) + (np.repeat(1, h1.shape[1]))\n",
    "    \n",
    "    return ans\n",
    "\n",
    "def nnCostFunction(nn_params, input_layer_size, hidden_layer_size, num_labels, X, y, lamb):\n",
    "    # Recreate Theta1 and Theta2 (this is straight from the provided Matlab code)\n",
    "    Theta1 = nn_params[0: hidden_layer_size * (input_layer_size + 1)].reshape(\n",
    "                 ((hidden_layer_size, (input_layer_size + 1))))\n",
    "\n",
    "    Theta2 = nn_params[((hidden_layer_size * (input_layer_size + 1))):].reshape(\n",
    "                     (num_labels, (hidden_layer_size + 1)) )\n",
    "\n",
    "    m, n = X.shape\n",
    "    \n",
    "    Theta1_grad = np.zeros_like(Theta1.shape)\n",
    "    Theta2_grad = np.zeros_like(Theta2.shape)\n",
    "    \n",
    "    \n",
    "    # One hidden layer\n",
    "    # Forward feedback through layers\n",
    "    a1 = np.append(np.ones((m, 1)), X, axis=1)\n",
    "    a2 = sigmoid(Theta1.dot(a1.T))\n",
    "    a2_ = np.append(np.ones((1, a2.shape[1])), a2, axis=0)\n",
    "    a3 = sigmoid(Theta2.dot(a2_))\n",
    "    \n",
    "    # Remove 1 from each value in y because python is 0 indexed\n",
    "    yd = (y - 1)\n",
    "    \n",
    "    # Create a Y vector of vectors where each vector has a 1 \n",
    "    # for the corresponding class in y, else 0\n",
    "    Y = (np.zeros(a3.shape))\n",
    "    Y[ yd.ravel(), np.arange(Y.shape[1])] = 1\n",
    "    \n",
    "    # Create Thetas without the bias value (Theta0)\n",
    "    Theta1_0 = np.delete(Theta1, 0, axis=1)\n",
    "    Theta2_0 = np.delete(Theta2, 0, axis=1)\n",
    "    \n",
    "    # Regularized term\n",
    "    reg = (lamb/(2*m))*(np.sum(np.square(Theta1_0)) + np.sum(np.square(Theta2_0)))\n",
    "    \n",
    "    # Cost\n",
    "    J = (-1/m) * np.sum((np.log(a3)) * Y +  (np.log(1 - a3)) * (1- Y)) + reg\n",
    "    \n",
    "    # Back propagation gradient\n",
    "    delta_3 = (a3 - Y)\n",
    "    delta_2 = Theta2.T[1:,:].dot(delta_3) * sigmoid_gradient(Theta1.dot(a1.T))\n",
    "    \n",
    "    grad_2 = delta_3.dot(a2_.T)/m\n",
    "    grad_1 = delta_2.dot(a1)/m\n",
    "    \n",
    "    if np.isnan(J):\n",
    "        J = np.inf\n",
    "        \n",
    "    return J, np.r_[grad_1.ravel(), grad_2.ravel()]\n",
    "    \n",
    "    \n",
    "    \n",
    "m, n = X.shape\n",
    "\n",
    "print 'Theta1\\t', Theta1.shape\n",
    "print 'Theta2\\t', Theta2.shape\n",
    "print 'X\\t', X.shape\n",
    "\n",
    "nn_params = np.r_[Theta1.ravel(), Theta2.ravel()]\n",
    "input_layer_size = 400\n",
    "hidden_layer_size = 25\n",
    "num_labels = 10\n",
    "\n",
    "cost, grad = nnCostFunction(nn_params, input_layer_size, hidden_layer_size, num_labels, X, y, 0)\n",
    "cost1, grad1 = nnCostFunction(nn_params, input_layer_size, hidden_layer_size, num_labels, X, y, 1)\n",
    "\n",
    "print '\\nCost (lambda = 0)\\t', cost\n",
    "print 'Cost (lambda = 1)\\t', cost1\n",
    "print '\\nGradient (lambda = 0)'\n",
    "print grad\n",
    "print grad.shape"
   ]
  },
  {
   "cell_type": "markdown",
   "metadata": {
    "deletable": true,
    "editable": true
   },
   "source": [
    "**Testing out the quality of back propagation with a limited dataset**"
   ]
  },
  {
   "cell_type": "code",
   "execution_count": 11,
   "metadata": {
    "collapsed": false,
    "deletable": true,
    "editable": true
   },
   "outputs": [
    {
     "name": "stdout",
     "output_type": "stream",
     "text": [
      "Difference is: 3.01688213259e-10\n"
     ]
    }
   ],
   "source": [
    "testCost, testGrad = nnCostFunction(\n",
    "                        nn_params, \n",
    "                        input_layer_size, \n",
    "                        hidden_layer_size, \n",
    "                        num_labels, \n",
    "                        X[0:30], y[0:30], 0\n",
    "                    )\n",
    "\n",
    "numgrad = computeNumericalGradient(\n",
    "            nnCostFunction, \n",
    "            nn_params, \n",
    "            input_layer_size, \n",
    "            hidden_layer_size, \n",
    "            num_labels, \n",
    "            X[0:30], \n",
    "            y[0:30], \n",
    "            0)\n",
    "\n",
    "\n",
    "diff = np.linalg.norm(numgrad.ravel() - testGrad.ravel()) / np.linalg.norm(numgrad.ravel() + testGrad.ravel())\n",
    "print 'Difference is: ' + str(diff)"
   ]
  },
  {
   "cell_type": "markdown",
   "metadata": {
    "deletable": true,
    "editable": true
   },
   "source": [
    "**Train the neural net with new values**"
   ]
  },
  {
   "cell_type": "code",
   "execution_count": 12,
   "metadata": {
    "collapsed": false,
    "deletable": true,
    "editable": true
   },
   "outputs": [
    {
     "name": "stdout",
     "output_type": "stream",
     "text": [
      "[  5.51552408e-01  -1.00382990e-01  -4.86810547e-03 ...,  -3.20846934e+00\n",
      "   7.76268708e+00  -7.64226525e+00] (8230,)\n"
     ]
    }
   ],
   "source": [
    "input_layer_size = 400\n",
    "hidden_layer_size = 20\n",
    "num_labels = 10\n",
    "\n",
    "init_params1 = randInitializeWeights(hidden_layer_size, input_layer_size + 1)\n",
    "init_params2 = randInitializeWeights(num_labels, hidden_layer_size + 1)\n",
    "\n",
    "init_params = np.r_[init_params1.ravel(), init_params2.ravel()]\n",
    "\n",
    "new_params = minimize(\n",
    "                nnCostFunction, \n",
    "                init_params, \n",
    "                args=(input_layer_size, hidden_layer_size, num_labels, X, y, 0),\n",
    "                options={'maxiter':4000},\n",
    "                jac=True,\n",
    "                method='CG'\n",
    "            )\n",
    "\n",
    "print new_params.x, new_params.x.shape"
   ]
  },
  {
   "cell_type": "markdown",
   "metadata": {
    "deletable": true,
    "editable": true
   },
   "source": [
    "**Check the accuracy and predictions of the new theta values**"
   ]
  },
  {
   "cell_type": "code",
   "execution_count": 70,
   "metadata": {
    "collapsed": false,
    "deletable": true,
    "editable": true
   },
   "outputs": [
    {
     "name": "stdout",
     "output_type": "stream",
     "text": [
      "Hidden layer\n"
     ]
    },
    {
     "data": {
      "image/png": "[encoded data removed]",
      "text/plain": [
       "<matplotlib.figure.Figure at 0x10b503a50>"
      ]
     },
     "metadata": {},
     "output_type": "display_data"
    },
    {
     "name": "stdout",
     "output_type": "stream",
     "text": [
      "Cost is:\t0.00266903796094\n",
      "Accuracy is:\t100.0%\n"
     ]
    }
   ],
   "source": [
    "input_layer_size = 400\n",
    "hidden_layer_size = 20\n",
    "num_labels = 10\n",
    "n_params = new_params.x\n",
    "\n",
    "cost, grad = nnCostFunction(n_params, input_layer_size, hidden_layer_size, num_labels, X, y, 0)\n",
    "nTheta1    = n_params[0: hidden_layer_size * (input_layer_size + 1)].reshape(\n",
    "                 ((hidden_layer_size, (input_layer_size + 1))))\n",
    "nTheta2    = n_params[((hidden_layer_size * (input_layer_size + 1))):].reshape(\n",
    "                 (num_labels, (hidden_layer_size + 1)) )\n",
    "\n",
    "rows = hidden_layer_size//5\n",
    "disp = []\n",
    "for i in range(rows):\n",
    "    disp.append(nTheta1[i:i+5, :-1].reshape(-1, 20).T)\n",
    "\n",
    "print 'Hidden layer'\n",
    "disp = np.array(disp)\n",
    "plt.imshow(disp.ravel().reshape(-1, 100), cmap='gray')\n",
    "plt.axis('off')\n",
    "plt.show()\n",
    "\n",
    "model = create_nn_model(nTheta1, nTheta2, X)\n",
    "acc   = model[model == y.ravel()].shape[0]/float(model.shape[0])\n",
    "\n",
    "print 'Cost is:\\t', cost\n",
    "print 'Accuracy is:\\t' + str(acc*100) + '%'"
   ]
  }
 ],
 "metadata": {
  "kernelspec": {
   "display_name": "Python 2",
   "language": "python",
   "name": "python2"
  },
  "language_info": {
   "codemirror_mode": {
    "name": "ipython",
    "version": 2
   },
   "file_extension": ".py",
   "mimetype": "text/x-python",
   "name": "python",
   "nbconvert_exporter": "python",
   "pygments_lexer": "ipython2",
   "version": "2.7.13"
  }
 },
 "nbformat": 4,
 "nbformat_minor": 2
}
