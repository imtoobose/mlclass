{
 "cells": [
  {
   "cell_type": "markdown",
   "metadata": {
    "deletable": true,
    "editable": true
   },
   "source": [
    "**Exercise 3: Multi class Classification and Neural Networks** "
   ]
  },
  {
   "cell_type": "code",
   "execution_count": 447,
   "metadata": {
    "collapsed": false,
    "deletable": true,
    "editable": true
   },
   "outputs": [],
   "source": [
    "import numpy as np\n",
    "import matplotlib.pyplot as plt\n",
    "import matplotlib as mp\n",
    "from scipy.io import loadmat\n",
    "from scipy import optimize\n",
    "from scipy.optimize import fmin_cg\n",
    "from random import randint"
   ]
  },
  {
   "cell_type": "markdown",
   "metadata": {},
   "source": [
    "**Take inputs, see some sample data**"
   ]
  },
  {
   "cell_type": "code",
   "execution_count": 448,
   "metadata": {
    "collapsed": false
   },
   "outputs": [
    {
     "name": "stdout",
     "output_type": "stream",
     "text": [
      "['y', 'X', '__version__', '__header__', '__globals__']\n",
      "['Theta2', '__version__', '__header__', 'Theta1', '__globals__']\n",
      "(5000, 400) (5000, 1)\n",
      "(25, 401) (10, 26)\n",
      "\n",
      "Random sample\n"
     ]
    },
    {
     "data": {
      "image/png": "[encoded data removed]",
      "text/plain": [
       "<matplotlib.figure.Figure at 0x1067883d0>"
      ]
     },
     "metadata": {},
     "output_type": "display_data"
    }
   ],
   "source": [
    "data = loadmat('ex3data1.mat')\n",
    "weights = loadmat('ex3weights.mat')\n",
    "print data.keys()\n",
    "print weights.keys()\n",
    "\n",
    "X = np.array(data['X'])\n",
    "y = np.array(data['y'])\n",
    "Theta1 = np.array(weights['Theta1'])\n",
    "Theta2 = np.array(weights['Theta2'])\n",
    "\n",
    "print X.shape, y.shape\n",
    "print Theta1.shape, Theta2.shape\n",
    "\n",
    "rand = randint(0, 5000)\n",
    "sample = X[np.random.choice(X.shape[0], 10, replace=False), :]\n",
    "\n",
    "print '\\nRandom sample'\n",
    "plt.imshow(sample.reshape((-1, 20)).T, cmap='gray_r')\n",
    "plt.axis('off')\n",
    "plt.show()"
   ]
  },
  {
   "cell_type": "markdown",
   "metadata": {},
   "source": [
    "## Multi-class Logistic Regression"
   ]
  },
  {
   "cell_type": "code",
   "execution_count": 449,
   "metadata": {
    "collapsed": false
   },
   "outputs": [],
   "source": [
    "lamb = 16\n",
    "\n",
    "# Sigmoid function\n",
    "def sigmoid(z):\n",
    "    return 1.0/(1.0+np.exp(-z))\n",
    "\n",
    "\n",
    "# Logistic regression cost without regularization\n",
    "def cost(thetas, x, y):\n",
    "    h = sigmoid(x.dot(thetas))\n",
    "    m = float(x.shape[0])\n",
    "    p1 = - y.T.dot(np.log(h))\n",
    "    p2 = - (1 - y).T.dot(np.log(1 - h))\n",
    "    ans = (1/(m)) * (p1 + p2)\n",
    "    \n",
    "    try:\n",
    "        ans = ans[0][0]\n",
    "    except:\n",
    "        ans = ans[0]\n",
    "    \n",
    "    if np.isnan(ans):\n",
    "        return np.inf\n",
    "    else:\n",
    "        return ans\n",
    "\n",
    "\n",
    "# Logistic regression with regularization\n",
    "def reg_cost(thetas, x, y):\n",
    "    cost_wo_reg = cost(thetas, x, y)\n",
    "    m, n = x.shape\n",
    "    reg_term = (lamb/(2.0*float(m))) * np.sum(np.square(thetas[1:]))\n",
    "    return cost_wo_reg + reg_term\n",
    "    \n",
    "\n",
    "# Gradient\n",
    "def reg_grad(thetas, x, y):\n",
    "    h = sigmoid(x.dot(thetas)).reshape(x.shape[0], 1)\n",
    "    m = float(x.shape[0])\n",
    "    ans = ((1/m) * (h - y).T.dot(x)) + (lamb/m * thetas.T)\n",
    "    return ans.flatten()\n",
    "\n",
    "\n",
    "# Predict one value\n",
    "def predict(xx, thetasopt):\n",
    "    return (sigmoid(xx.dot(thetasopt)) > 0.5).astype(int)\n",
    "\n",
    "\n",
    "# Get list of prediction probabilities and the most likely class\n",
    "def predict_prob(xx, allthetas):\n",
    "    prediction = np.zeros((11,1))\n",
    "    \n",
    "    for i in range(1, 11):\n",
    "        prediction[i] = sigmoid(xx.dot(allthetas[i])).flatten()[0]\n",
    "\n",
    "    return (prediction, np.argmax(prediction), prediction[np.argmax(prediction)][0])\n",
    "\n",
    "\n",
    "# Accuracy for one class\n",
    "def get_accuracy(X, y, thetasopt):\n",
    "    predictions = predict(X, thetasopt)\n",
    "    sums = sum(predictions == y.flatten())\n",
    "    return sums/float(predictions.shape[0])\n",
    "\n",
    "\n",
    "def get_aggregate_accuracy(X, y, allthetas):\n",
    "    accuracy = np.zeros((11, 1))\n",
    "    for i in range(1, 11):\n",
    "        accuracy[i] = get_accuracy(X, (y == i).astype(int), allthetas[i])\n",
    "    \n",
    "    return np.sum(accuracy)/10"
   ]
  },
  {
   "cell_type": "markdown",
   "metadata": {},
   "source": [
    "**Train the logistic regression model**"
   ]
  },
  {
   "cell_type": "code",
   "execution_count": 450,
   "metadata": {
    "collapsed": false
   },
   "outputs": [
    {
     "name": "stdout",
     "output_type": "stream",
     "text": [
      "Training 1\n",
      "Training 2\n",
      "Training 3\n",
      "Training 4\n",
      "Training 5\n",
      "Training 6\n",
      "Training 7\n",
      "Training 8\n",
      "Training 9\n",
      "Training 10\n"
     ]
    }
   ],
   "source": [
    "def train(X, y):\n",
    "    allthetas = [[] for dd in range(11)]\n",
    "    m, n = X.shape\n",
    "    XX = np.append(np.ones((m ,1)), X, 1)\n",
    "\n",
    "    for i in range(1, 11):\n",
    "        Yvals = (y == i).astype(int)\n",
    "        print 'Training', i\n",
    "        thetas = np.zeros((n+1, 1))\n",
    "        get_min = optimize.minimize(cost, thetas, options={\"maxiter\":400}, jac=reg_grad, args=(XX, Yvals), method=None)\n",
    "        thetasopt = get_min.x\n",
    "        allthetas[i] = np.array(thetasopt)\n",
    "\n",
    "    allthetas = np.array(allthetas)\n",
    "    return allthetas\n",
    "    \n",
    "allthetas = train(X, y)"
   ]
  },
  {
   "cell_type": "markdown",
   "metadata": {},
   "source": [
    "**Test out the training data with predictions and check it's accuracy**"
   ]
  },
  {
   "cell_type": "code",
   "execution_count": 451,
   "metadata": {
    "collapsed": false
   },
   "outputs": [
    {
     "data": {
      "image/png": "[encoded data removed]",
      "text/plain": [
       "<matplotlib.figure.Figure at 0x125932190>"
      ]
     },
     "metadata": {},
     "output_type": "display_data"
    },
    {
     "name": "stdout",
     "output_type": "stream",
     "text": [
      "Predicted value: 9\n",
      "Confidence: 0.463794199179\n",
      "\n",
      "Training set accuracy:  97.358\n"
     ]
    }
   ],
   "source": [
    "pred_index = 4700\n",
    "\n",
    "plt.imshow(X[pred_index].reshape((-1, 20)).T, cmap='gray_r')\n",
    "plt.axis('off')\n",
    "plt.show()\n",
    "\n",
    "preds = (predict_prob(XX[pred_index], allthetas))\n",
    "\n",
    "print 'Predicted value:', preds[1]\n",
    "print 'Confidence:', preds[2]\n",
    "\n",
    "print '\\nTraining set accuracy: ',\\\n",
    "        get_aggregate_accuracy(XX, y, allthetas)*100"
   ]
  },
  {
   "cell_type": "markdown",
   "metadata": {},
   "source": [
    "## Neural network"
   ]
  },
  {
   "cell_type": "code",
   "execution_count": 452,
   "metadata": {
    "collapsed": false
   },
   "outputs": [],
   "source": [
    "def create_nn_model(Theta1, Theta2, XX):\n",
    "    h = sigmoid(Theta1.dot(XX.T))\n",
    "    l1 = np.append(np.ones((1, h.shape[1])), h, 0)\n",
    "    h1 = sigmoid(Theta2.dot(l1))\n",
    "    ans = np.argmax(h1, axis=0) + (np.repeat(1, h1.shape[1]))\n",
    "    \n",
    "    return ans"
   ]
  },
  {
   "cell_type": "markdown",
   "metadata": {},
   "source": [
    "**Test out the Neural network**"
   ]
  },
  {
   "cell_type": "code",
   "execution_count": 453,
   "metadata": {
    "collapsed": false
   },
   "outputs": [
    {
     "data": {
      "image/png": "[encoded data removed]",
      "text/plain": [
       "<matplotlib.figure.Figure at 0x123327690>"
      ]
     },
     "metadata": {},
     "output_type": "display_data"
    },
    {
     "name": "stdout",
     "output_type": "stream",
     "text": [
      "Training set accuracy 97.52\n",
      "Predicted: 6\n"
     ]
    }
   ],
   "source": [
    "model = create_nn_model(Theta1, Theta2, XX)\n",
    "\n",
    "yy = y.flatten()\n",
    "acc = model[model == yy].shape[0]/float(model.shape[0])\n",
    "    \n",
    "    \n",
    "pred_index = 3000\n",
    "\n",
    "plt.imshow(X[pred_index].reshape((-1, 20)).T, cmap='gray_r')\n",
    "plt.axis('off')\n",
    "plt.show()\n",
    "\n",
    "print 'Training set accuracy', acc*100\n",
    "print 'Predicted:', model[pred_index]"
   ]
  }
 ],
 "metadata": {
  "kernelspec": {
   "display_name": "Python 2",
   "language": "python",
   "name": "python2"
  },
  "language_info": {
   "codemirror_mode": {
    "name": "ipython",
    "version": 2
   },
   "file_extension": ".py",
   "mimetype": "text/x-python",
   "name": "python",
   "nbconvert_exporter": "python",
   "pygments_lexer": "ipython2",
   "version": "2.7.13"
  }
 },
 "nbformat": 4,
 "nbformat_minor": 2
}
